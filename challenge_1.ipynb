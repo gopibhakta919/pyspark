{
  "nbformat": 4,
  "nbformat_minor": 0,
  "metadata": {
    "colab": {
      "provenance": [],
      "authorship_tag": "ABX9TyODVzxE/SGCtWqZL0XAUUOP",
      "include_colab_link": true
    },
    "kernelspec": {
      "name": "python3",
      "display_name": "Python 3"
    },
    "language_info": {
      "name": "python"
    }
  },
  "cells": [
    {
      "cell_type": "markdown",
      "metadata": {
        "id": "view-in-github",
        "colab_type": "text"
      },
      "source": [
        "<a href=\"https://colab.research.google.com/github/gopibhakta919/pyspark/blob/trainings/challenge_1.ipynb\" target=\"_parent\"><img src=\"https://colab.research.google.com/assets/colab-badge.svg\" alt=\"Open In Colab\"/></a>"
      ]
    },
    {
      "cell_type": "code",
      "source": [
        "!apt-get update\n",
        "!apt-get install openjdk-8-jdk-headless -qq > /dev/null\n",
        "!wget -q http://archive.apache.org/dist/spark/spark-3.1.1/spark-3.1.1-bin-hadoop3.2.tgz\n",
        "!tar xf spark-3.1.1-bin-hadoop3.2.tgz\n",
        "!pip install -q findspark\n",
        "import os\n",
        "os.environ[\"JAVA_HOME\"] = \"/usr/lib/jvm/java-8-openjdk-amd64\"\n",
        "os.environ[\"SPARK_HOME\"] = \"/content/spark-3.1.1-bin-hadoop3.2\"\n",
        "import findspark\n",
        "findspark.init()\n",
        "from pyspark.sql import SparkSession\n",
        "spark = SparkSession.builder.getOrCreate()\n",
        "spark\n",
        "\n"
      ],
      "metadata": {
        "colab": {
          "base_uri": "https://localhost:8080/",
          "height": 459
        },
        "id": "ohQYaeD0u-9L",
        "outputId": "f098ae22-736b-4b85-921b-603b38a8f647"
      },
      "execution_count": 12,
      "outputs": [
        {
          "output_type": "stream",
          "name": "stdout",
          "text": [
            "\r0% [Working]\r            \rHit:1 https://cloud.r-project.org/bin/linux/ubuntu focal-cran40/ InRelease\n",
            "Hit:2 https://developer.download.nvidia.com/compute/cuda/repos/ubuntu2004/x86_64  InRelease\n",
            "Hit:3 http://security.ubuntu.com/ubuntu focal-security InRelease\n",
            "Hit:4 http://archive.ubuntu.com/ubuntu focal InRelease\n",
            "Hit:5 http://ppa.launchpad.net/c2d4u.team/c2d4u4.0+/ubuntu focal InRelease\n",
            "Hit:6 http://archive.ubuntu.com/ubuntu focal-updates InRelease\n",
            "Get:7 http://archive.ubuntu.com/ubuntu focal-backports InRelease [108 kB]\n",
            "Hit:8 http://ppa.launchpad.net/cran/libgit2/ubuntu focal InRelease\n",
            "Hit:9 http://ppa.launchpad.net/deadsnakes/ppa/ubuntu focal InRelease\n",
            "Hit:10 http://ppa.launchpad.net/graphics-drivers/ppa/ubuntu focal InRelease\n",
            "Hit:11 http://ppa.launchpad.net/ubuntugis/ppa/ubuntu focal InRelease\n",
            "Fetched 108 kB in 3s (41.7 kB/s)\n",
            "Reading package lists... Done\n"
          ]
        },
        {
          "output_type": "execute_result",
          "data": {
            "text/plain": [
              "<pyspark.sql.session.SparkSession at 0x7fedbe6a0040>"
            ],
            "text/html": [
              "\n",
              "            <div>\n",
              "                <p><b>SparkSession - in-memory</b></p>\n",
              "                \n",
              "        <div>\n",
              "            <p><b>SparkContext</b></p>\n",
              "\n",
              "            <p><a href=\"http://930c0ea9c17f:4040\">Spark UI</a></p>\n",
              "\n",
              "            <dl>\n",
              "              <dt>Version</dt>\n",
              "                <dd><code>v3.1.1</code></dd>\n",
              "              <dt>Master</dt>\n",
              "                <dd><code>local[*]</code></dd>\n",
              "              <dt>AppName</dt>\n",
              "                <dd><code>pyspark-shell</code></dd>\n",
              "            </dl>\n",
              "        </div>\n",
              "        \n",
              "            </div>\n",
              "        "
            ]
          },
          "metadata": {},
          "execution_count": 12
        }
      ]
    },
    {
      "cell_type": "code",
      "source": [
        "from pyspark.sql.types import *\n",
        "import pyspark.sql.functions as sqlfunc\n",
        "\n",
        "myschema = StructType([\n",
        "    StructField('ip_address' , StringType()),\n",
        "    StructField('Country', StringType()),\n",
        "    StructField('Domain Name', StringType()),\n",
        "    StructField('Bytes_used', IntegerType())\n",
        "])"
      ],
      "metadata": {
        "id": "xneYTNlGE6ZT"
      },
      "execution_count": 20,
      "outputs": []
    },
    {
      "cell_type": "code",
      "source": [
        "df = spark.read.csv(\"challenge.csv\", header = True, schema=myschema)"
      ],
      "metadata": {
        "id": "31CBFzxmBrD3"
      },
      "execution_count": 21,
      "outputs": []
    },
    {
      "cell_type": "code",
      "source": [
        "df1 = df.withColumn(\"Country_mexico\" , sqlfunc.when(df.Country.isin('Mexico'), 'YES').otherwise('NO'))"
      ],
      "metadata": {
        "id": "2cOxTpN0B06I"
      },
      "execution_count": 22,
      "outputs": []
    },
    {
      "cell_type": "code",
      "source": [
        "df2 = df1.groupBy('Country_mexico').agg(sqlfunc.sum('Bytes_used').alias('Sum_bytes_used'))"
      ],
      "metadata": {
        "id": "fqjls1DICKaF"
      },
      "execution_count": 23,
      "outputs": []
    },
    {
      "cell_type": "code",
      "source": [
        "df2.show()"
      ],
      "metadata": {
        "colab": {
          "base_uri": "https://localhost:8080/"
        },
        "id": "5glBVsyXIggU",
        "outputId": "3cf83ce3-3ce5-47bd-daa1-cb8e530c47f1"
      },
      "execution_count": 25,
      "outputs": [
        {
          "output_type": "stream",
          "name": "stdout",
          "text": [
            "+--------------+--------------+\n",
            "|Country_mexico|Sum_bytes_used|\n",
            "+--------------+--------------+\n",
            "|           YES|          6293|\n",
            "|            NO|        508076|\n",
            "+--------------+--------------+\n",
            "\n"
          ]
        }
      ]
    },
    {
      "cell_type": "code",
      "source": [
        "df3 = df1.groupBy('Country').agg(sqlfunc.countDistinct('ip_address').alias('ip_address_per_country'))\n",
        "#df3 = df1.groupBy('Country').agg(sqlfunc.countDistinct(df1.ip_address).alias('ip_address_per_country'))"
      ],
      "metadata": {
        "id": "SaBNP32rIIHb"
      },
      "execution_count": 37,
      "outputs": []
    },
    {
      "cell_type": "code",
      "source": [
        "from pyspark.sql.functions import *\n",
        "df3.sort(col(\"ip_address_per_country\").desc()).show()"
      ],
      "metadata": {
        "colab": {
          "base_uri": "https://localhost:8080/"
        },
        "id": "Er14KWVNIK2U",
        "outputId": "861916ee-eae3-4e7e-a277-e18d2dfc7faf"
      },
      "execution_count": 38,
      "outputs": [
        {
          "output_type": "stream",
          "name": "stdout",
          "text": [
            "+--------------+----------------------+\n",
            "|       Country|ip_address_per_country|\n",
            "+--------------+----------------------+\n",
            "|         China|                   172|\n",
            "|     Indonesia|                   114|\n",
            "|   Philippines|                    65|\n",
            "|        Russia|                    56|\n",
            "|        Brazil|                    35|\n",
            "|        Poland|                    31|\n",
            "|        Sweden|                    28|\n",
            "|         Japan|                    25|\n",
            "|      Portugal|                    23|\n",
            "|Czech Republic|                    23|\n",
            "|        France|                    21|\n",
            "|          Peru|                    19|\n",
            "|      Colombia|                    17|\n",
            "| United States|                    15|\n",
            "|       Ukraine|                    14|\n",
            "|     Argentina|                    14|\n",
            "|        Mexico|                    13|\n",
            "|      Thailand|                    12|\n",
            "|       Nigeria|                    11|\n",
            "|        Canada|                    11|\n",
            "+--------------+----------------------+\n",
            "only showing top 20 rows\n",
            "\n"
          ]
        }
      ]
    },
    {
      "cell_type": "code",
      "source": [],
      "metadata": {
        "id": "GJUL0pPZIw-c"
      },
      "execution_count": null,
      "outputs": []
    }
  ]
}